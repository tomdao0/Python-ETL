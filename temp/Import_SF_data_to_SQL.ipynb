{
 "cells": [
  {
   "cell_type": "code",
   "execution_count": 214,
   "metadata": {},
   "outputs": [
    {
     "name": "stdout",
     "output_type": "stream",
     "text": [
      "Amount Columns: []\n",
      "Date Columns: ['CreatedDate']\n",
      "Amount Columns: []\n",
      "Date Columns: []\n",
      "Amount Columns: ['ExpectedRevenue', 'BudgetedCost', 'ActualCost', 'AmountAllOpportunities', 'AmountWonOpportunities']\n",
      "Date Columns: ['StartDate', 'EndDate']\n",
      "Amount Columns: ['AnnualRevenue']\n",
      "Date Columns: ['CreatedDate']\n",
      "Amount Columns: []\n",
      "Date Columns: []\n",
      "Amount Columns: []\n",
      "Date Columns: ['CreatedDate']\n",
      "Amount Columns: []\n",
      "Date Columns: []\n",
      "Amount Columns: ['Amount']\n",
      "Date Columns: ['CloseDate', 'CreatedDate']\n",
      "Amount Columns: []\n",
      "Date Columns: ['CreatedDate']\n"
     ]
    }
   ],
   "source": [
    "from lib.transformdata import CreateTableInSQLServer\n",
    "from lib.transformdata import MaskData\n",
    "from lib.transformdata import TransformData\n",
    "import numpy as np\n",
    "import random\n",
    "import pandas as pd\n",
    "import re\n",
    "file_location = r'C:\\Users\\tomda\\OneDrive\\Desktop\\Python Supper App\\DataSF.xlsx'\n",
    "def keep_first_number(s):\n",
    "    match = re.match(r'^\\s*(\\d+\\s+\\d+)', s)\n",
    "    return match.group(1) + \" Campaign \" if match else \"Campaign \"\n",
    "df_Account = TransformData(file_location, 'Account').result() #Preparedata to import\n",
    "df_User = TransformData(file_location, 'User').result() #Preparedata to import\n",
    "df_Campaign = TransformData(file_location, 'Campaign').result()\n",
    "df_Lead = TransformData(file_location, 'Lead').result() #Preparedata to import\n",
    "df_Contact = TransformData(file_location, 'Contact').result() #Preparedata to import\n",
    "df_CampaignMember = TransformData(file_location, 'CampaignMember').result() #Preparedata to import\n",
    "df_OppProduct = TransformData(file_location, 'OppProduct').result() #Preparedata to import\n",
    "df_Opportunity= TransformData(file_location, 'Opportunity').result() #Preparedata to import\n",
    "df_Task= TransformData(file_location, 'Task').result() #Preparedata to import"
   ]
  },
  {
   "cell_type": "code",
   "execution_count": 215,
   "metadata": {},
   "outputs": [
    {
     "name": "stderr",
     "output_type": "stream",
     "text": [
      "C:\\Users\\tomda\\AppData\\Local\\Temp\\ipykernel_5156\\3245973703.py:60: SettingWithCopyWarning: \n",
      "A value is trying to be set on a copy of a slice from a DataFrame.\n",
      "Try using .loc[row_indexer,col_indexer] = value instead\n",
      "\n",
      "See the caveats in the documentation: https://pandas.pydata.org/pandas-docs/stable/user_guide/indexing.html#returning-a-view-versus-a-copy\n",
      "  df_Opportunity['LeadSource'] = df_Opportunity['LeadSource'].str.replace('CF', 'SS') #Replace CF to SS in LeadSource\n"
     ]
    }
   ],
   "source": [
    "# Account\n",
    "df_Account = MaskData(df_Account, ['Name'], 'Full Name', r'lib\\Maskdata\\names.csv').mask_data() #Mask Account Name\n",
    "df_Account = MaskData(df_Account, ['Phone'], 'Full Name', r'lib\\Maskdata\\names.csv').mask_phone() #Mask Account Phone\n",
    "df_Account[\"Account_Id_masked\"] = range(1,len(df_Account) + 1) #Mask AccountId\n",
    "# User\n",
    "df_User = MaskData(df_User, ['Name'], 'Full Name', r'lib\\Maskdata\\names.csv').mask_data() #Mask User Name\n",
    "df_User[\"User_Id_masked\"] = range(1,len(df_User) + 1) #Mask AccountId\n",
    "# Campaign\n",
    "df_Campaign[\"Campaign_Id_masked\"] = range(1,len(df_Campaign) + 1) #Mask CampaignId\n",
    "df_Campaign[\"Name\"] = df_Campaign[\"Name\"].apply(keep_first_number)  + df_Campaign[\"Campaign_Id_masked\"].astype(str)\n",
    "df_Campaign['Type'] = df_Campaign['Type'].str.replace('CF', 'SS') #Replace CF to SS in Type\n",
    "    # Replace OwnerId by new userId\n",
    "merged_df = pd.merge(df_Campaign, df_User[['Id', 'User_Id_masked']], left_on='OwnerId', right_on='Id', how='left',suffixes=('', '_y'))\n",
    "merged_df['OwnerId'] = merged_df['User_Id_masked']\n",
    "df_Campaign = merged_df[df_Campaign.columns]\n",
    "# Contact\n",
    "df_Contact[\"Contact_Id_masked\"] = range(1,len(df_Contact) + 1) #Mask ContactId\n",
    "    # replace AccountId by Account_Id_masked\n",
    "merged_df = pd.merge(df_Contact, df_Account[['Id', 'Account_Id_masked']], left_on='AccountId', right_on='Id', how='left',suffixes=('', '_y'))\n",
    "merged_df['AccountId'] = merged_df['Account_Id_masked']\n",
    "df_Contact = merged_df[df_Contact.columns]\n",
    "# Lead\n",
    "df_Lead = MaskData(df_Lead, ['Name'], 'Full Name', r'lib\\Maskdata\\names.csv').mask_data() #Mask Lead Name\n",
    "df_Lead[\"Lead_Id_masked\"] = range(1,len(df_Lead) + 1) #Mask LeadId\n",
    "    #Create name of company by group and increament \n",
    "temp_df = pd.DataFrame(df_Lead['Company'].unique(), columns=['Company']) \n",
    "temp_df['temp_id'] = range(1, len(temp_df) + 1)\n",
    "temp_df['temp_CMP'] = \"Company \" +  temp_df['temp_id'].astype(str)\n",
    "merged_df = pd.merge(df_Lead, temp_df[['Company', 'temp_CMP']], left_on='Company', right_on='Company', how='left', suffixes=('', '_y'))\n",
    "merged_df['Company'] = merged_df['temp_CMP'] # Mask Company\n",
    "df_Lead = merged_df[df_Lead.columns]\n",
    "# CampaignMember\n",
    "df_CampaignMember[\"CampaignMember_Id_masked\"] = range(1,len(df_CampaignMember) + 1) #Mask CampaignMember Id\n",
    "    # replace LeadId by Lead_Id_masked\n",
    "merged_df = pd.merge(df_CampaignMember, df_Lead[['Id', 'Lead_Id_masked']], left_on='LeadId', right_on='Id', how='left',suffixes=('', '_y'))\n",
    "merged_df['LeadId'] = merged_df['Lead_Id_masked']\n",
    "df_CampaignMember = merged_df[df_CampaignMember.columns]\n",
    "    # replace ContactId by Contact_Id_masked\n",
    "merged_df = pd.merge(df_CampaignMember, df_Contact[['Id', 'Contact_Id_masked']], left_on='ContactId', right_on='Id', how='left',suffixes=('', '_y'))\n",
    "merged_df['ContactId'] = merged_df['Contact_Id_masked']\n",
    "df_CampaignMember = merged_df[df_CampaignMember.columns]\n",
    "# Opportunity\n",
    "df_Opportunity[\"Opportunity_Id_masked\"] = range(1,len(df_Opportunity) + 1) #Mask Opportunity Id\n",
    "    # replace AccountId by Account_Id_masked\n",
    "merged_df = pd.merge(df_Opportunity, df_Account[['Id', 'Account_Id_masked']], left_on='AccountId', right_on='Id', how='left',suffixes=('', '_y'))\n",
    "merged_df['AccountId'] = merged_df['Account_Id_masked']\n",
    "df_Opportunity = merged_df[df_Opportunity.columns]\n",
    "    # replace OwnerId by User_Id_masked\n",
    "merged_df = pd.merge(df_Opportunity, df_User[['Id', 'User_Id_masked']], left_on='OwnerId', right_on='Id', how='left',suffixes=('', '_y'))\n",
    "merged_df['OwnerId'] = merged_df['User_Id_masked']\n",
    "df_Opportunity = merged_df[df_Opportunity.columns]\n",
    "    # replace ContactId by Contact_Id_masked\n",
    "merged_df = pd.merge(df_Opportunity, df_Contact[['Id', 'Contact_Id_masked']], left_on='ContactId', right_on='Id', how='left',suffixes=('', '_y'))\n",
    "merged_df['ContactId'] = merged_df['Contact_Id_masked']\n",
    "df_Opportunity = merged_df[df_Opportunity.columns]\n",
    "    # replace CampaignId by Campaign_Id_masked\n",
    "merged_df = pd.merge(df_Opportunity, df_Campaign[['Id', 'Campaign_Id_masked']], left_on='CampaignId', right_on='Id', how='left',suffixes=('', '_y'))\n",
    "merged_df['CampaignId'] = merged_df['Campaign_Id_masked']\n",
    "df_Opportunity = merged_df[df_Opportunity.columns]\n",
    "df_Opportunity['LeadSource'] = df_Opportunity['LeadSource'].str.replace('CF', 'SS') #Replace CF to SS in LeadSource\n",
    "# OppProduct\n",
    "df_OppProduct[\"OppProduct_Id_masked\"] = range(1,len(df_OppProduct) + 1) #Mask Product Id\n",
    "    # replace OpportunityId by Opportunity_Id_masked\n",
    "merged_df = pd.merge(df_OppProduct, df_Opportunity[['Id', 'Opportunity_Id_masked']], left_on='OpportunityId', right_on='Id', how='left',suffixes=('', '_y'))\n",
    "merged_df['OpportunityId'] = merged_df['Opportunity_Id_masked']\n",
    "df_OppProduct = merged_df[df_OppProduct.columns]\n",
    "# Task\n",
    "df_Task[\"Task_Id_masked\"] = range(1,len(df_Task) + 1) #Mask Task Id\n",
    "df_Task = MaskData(df_Task, ['Name'], 'Full Name', r'lib\\Maskdata\\names.csv').mask_data() #Mask Task Name\n",
    "df_Task['Description'] = \"Description \" + df_Task[\"Task_Id_masked\"].astype(str)\n",
    "    # replace OwnerId by User_Id_masked\n",
    "merged_df = pd.merge(df_Task, df_User[['Id', 'User_Id_masked']], left_on='OwnerId', right_on='Id', how='left',suffixes=('', '_y'))\n",
    "merged_df['OwnerId'] = merged_df['User_Id_masked']\n",
    "df_Task = merged_df[df_Task.columns]\n",
    "    # replace AccountId by Account_Id_masked\n",
    "merged_df = pd.merge(df_Task, df_Account[['Id', 'Account_Id_masked']], left_on='AccountId', right_on='Id', how='left',suffixes=('', '_y'))\n",
    "merged_df['AccountId'] = merged_df['Account_Id_masked']\n",
    "df_Task = merged_df[df_Task.columns]"
   ]
  },
  {
   "cell_type": "code",
   "execution_count": 216,
   "metadata": {},
   "outputs": [
    {
     "name": "stderr",
     "output_type": "stream",
     "text": [
      "C:\\Users\\tomda\\AppData\\Local\\Temp\\ipykernel_5156\\764941819.py:23: SettingWithCopyWarning: \n",
      "A value is trying to be set on a copy of a slice from a DataFrame.\n",
      "Try using .loc[row_indexer,col_indexer] = value instead\n",
      "\n",
      "See the caveats in the documentation: https://pandas.pydata.org/pandas-docs/stable/user_guide/indexing.html#returning-a-view-versus-a-copy\n",
      "  df_Task['Id'] = df_Task['Task_Id_masked'].astype(int)\n",
      "C:\\Users\\tomda\\AppData\\Local\\Temp\\ipykernel_5156\\764941819.py:24: SettingWithCopyWarning: \n",
      "A value is trying to be set on a copy of a slice from a DataFrame\n",
      "\n",
      "See the caveats in the documentation: https://pandas.pydata.org/pandas-docs/stable/user_guide/indexing.html#returning-a-view-versus-a-copy\n",
      "  df_Task.drop(columns=['Task_Id_masked'], inplace=True)\n"
     ]
    },
    {
     "data": {
      "text/plain": [
       "0         562\n",
       "1         563\n",
       "2         537\n",
       "3         635\n",
       "4         704\n",
       "         ... \n",
       "34487    5166\n",
       "34488    <NA>\n",
       "34489    3018\n",
       "34490    6785\n",
       "34491    <NA>\n",
       "Name: AccountId, Length: 34492, dtype: Int64"
      ]
     },
     "execution_count": 216,
     "metadata": {},
     "output_type": "execute_result"
    }
   ],
   "source": [
    "df_Account['Id'] = df_Account['Account_Id_masked'].astype(int)\n",
    "df_Account.drop(columns=['Account_Id_masked'], inplace=True)\n",
    "df_User['Id'] = df_User['User_Id_masked'].astype(int)\n",
    "df_User.drop(columns=['User_Id_masked'], inplace=True)\n",
    "df_Campaign['Id'] = df_Campaign['Campaign_Id_masked'].astype(int)\n",
    "df_Campaign.drop(columns=['Campaign_Id_masked'], inplace=True)\n",
    "df_Contact['Id'] = df_Contact['Contact_Id_masked'].astype(int)\n",
    "df_Contact.drop(columns=['Contact_Id_masked'], inplace=True)\n",
    "df_Lead['Id'] = df_Lead['Lead_Id_masked'].astype(int)\n",
    "df_Lead.drop(columns=['Lead_Id_masked'], inplace=True)\n",
    "df_CampaignMember['Id'] = df_CampaignMember['CampaignMember_Id_masked'].astype(int)\n",
    "df_CampaignMember.drop(columns=['CampaignMember_Id_masked'], inplace=True)\n",
    "df_CampaignMember['LeadId'].astype('Int64')\n",
    "df_CampaignMember['ContactId'].astype('Int64')\n",
    "df_Opportunity['Id'] = df_Opportunity['Opportunity_Id_masked'].astype(int)\n",
    "df_Opportunity.drop(columns=['Opportunity_Id_masked'], inplace=True)\n",
    "df_Opportunity['AccountId'].astype('Int64')\n",
    "df_Opportunity['ContactId'].astype('Int64')\n",
    "df_Opportunity['CampaignId'].astype('Int64')\n",
    "df_OppProduct['Id'] = df_OppProduct['OppProduct_Id_masked'].astype(int)\n",
    "df_OppProduct.drop(columns=['OppProduct_Id_masked'], inplace=True)\n",
    "df_OppProduct['OpportunityId'].astype('Int64')\n",
    "df_Task['Id'] = df_Task['Task_Id_masked'].astype(int)\n",
    "df_Task.drop(columns=['Task_Id_masked'], inplace=True)\n",
    "df_Task['OwnerId'].astype('Int64')\n",
    "df_Task['AccountId'].astype('Int64')\n"
   ]
  },
  {
   "cell_type": "code",
   "execution_count": 217,
   "metadata": {},
   "outputs": [
    {
     "name": "stdout",
     "output_type": "stream",
     "text": [
      "OK\n",
      "OK\n",
      "OK\n",
      "OK\n",
      "OK\n",
      "OK\n",
      "OK\n",
      "OK\n",
      "OK\n"
     ]
    }
   ],
   "source": [
    "CreateTableInSQLServer('TOM', 'SampleSF', 'Account', df_Account).run()\n",
    "CreateTableInSQLServer('TOM', 'SampleSF', 'CRM_User', df_User).run()\n",
    "CreateTableInSQLServer('TOM', 'SampleSF', 'Contact', df_Contact).run()\n",
    "CreateTableInSQLServer('TOM', 'SampleSF', 'Campaign', df_Campaign).run()\n",
    "CreateTableInSQLServer('TOM', 'SampleSF', 'CampaignMember', df_CampaignMember).run()\n",
    "CreateTableInSQLServer('TOM', 'SampleSF', 'Opportunity', df_Opportunity).run()\n",
    "CreateTableInSQLServer('TOM', 'SampleSF', 'OppProduct', df_OppProduct).run()\n",
    "CreateTableInSQLServer('TOM', 'SampleSF', 'Task', df_Task).run()\n",
    "CreateTableInSQLServer('TOM', 'SampleSF', 'Lead', df_Lead).run()"
   ]
  }
 ],
 "metadata": {
  "kernelspec": {
   "display_name": "venv",
   "language": "python",
   "name": "python3"
  },
  "language_info": {
   "codemirror_mode": {
    "name": "ipython",
    "version": 3
   },
   "file_extension": ".py",
   "mimetype": "text/x-python",
   "name": "python",
   "nbconvert_exporter": "python",
   "pygments_lexer": "ipython3",
   "version": "3.10.9"
  }
 },
 "nbformat": 4,
 "nbformat_minor": 2
}
