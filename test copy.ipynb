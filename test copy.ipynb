{
 "cells": [
  {
   "cell_type": "code",
   "execution_count": 1,
   "metadata": {},
   "outputs": [],
   "source": [
    "import requests\n",
    "import xml.etree.ElementTree as ET\n",
    "sender_id = \"eastwestcenter\"\n",
    "sender_password = \"$0EN1mp@23$!\"\n",
    "company_id = \"eastwestcenter\"\n",
    "user_id = \"silverseas\"\n",
    "user_password = 'EWCSilversea19!@'\n",
    "url = \"https://api.intacct.com/ia/xml/xmlgw.phtml\"\n",
    "headers = {\"Content-Type\": \"application/xml\"}\n",
    "xml_payload = f\"\"\"\n",
    "<request>\n",
    "    <control>\n",
    "        <senderid>{sender_id}</senderid>\n",
    "        <password>{sender_password}</password>\n",
    "        <controlid>control_test</controlid>\n",
    "        <uniqueid>false</uniqueid>\n",
    "        <dtdversion>3.0</dtdversion>\n",
    "    </control>\n",
    "    <operation>\n",
    "        <authentication>\n",
    "            <login>\n",
    "                <userid>{user_id}</userid>\n",
    "                <companyid>{company_id}</companyid>\n",
    "                <password>{user_password}</password>\n",
    "            </login>\n",
    "        </authentication>\n",
    "        <content>\n",
    "            <function controlid=\"query_get_data\">\n",
    "\n",
    "            <readByQuery>\n",
    "                <object>GLBUDGETITEM</object>\n",
    "                <fields>*</fields>\n",
    "                <query></query>\n",
    "                <pagesize>100</pagesize>\n",
    "            </readByQuery>\n",
    " \n",
    "            </function>\n",
    "        </content>\n",
    "    </operation>\n",
    "</request>\n",
    "\"\"\"     \n",
    "response = requests.post(url, data=xml_payload, headers=headers, timeout=30)\n",
    "result = response.status_code\n",
    "with open('response.csv', \"w\", encoding=\"utf-8\") as file:\n",
    "    file.write(response.text)\n",
    "# print(response.text)"
   ]
  },
  {
   "cell_type": "code",
   "execution_count": null,
   "metadata": {},
   "outputs": [],
   "source": [
    "                <query>\n",
    "                    <object>GLACCOUNT</object>\n",
    "                    <select>\n",
    "       \n",
    "                        <field>WHENMODIFIED</field>\n",
    "          \n",
    "                    </select>\n",
    "                <pagesize>1000</pagesize>\n",
    "                <orderby>\n",
    "                    <order>\n",
    "                    <field>WHENMODIFIED</field>\n",
    "                    <descending/>\n",
    "                    </order>\n",
    "                </orderby>\n",
    "                <filter>\n",
    "                    <greaterthanorequalto>\n",
    "                        <field>WHENMODIFIED</field>\n",
    "                        <value>2024-12-04 00:44:30</value>\n",
    "                    </greaterthanorequalto>\n",
    "                </filter>\n",
    "                <options><returnformat>csv</returnformat></options>\n",
    "                </query>"
   ]
  },
  {
   "cell_type": "code",
   "execution_count": 19,
   "metadata": {},
   "outputs": [
    {
     "name": "stdout",
     "output_type": "stream",
     "text": [
      "2024-12-04 00:44:30\n",
      "2024\n"
     ]
    }
   ],
   "source": [
    "import pyodbc\n",
    "import datetime as dt\n",
    "sql_server_name = \"tcp:ss-ewc-dev.database.windows.net,1433\"\n",
    "sql_database_name = \"ss-ewc-dev-2\"\n",
    "sql_username = \"ssadmin\"\n",
    "sql_password = \"SSAnalytics2023@!\"\n",
    "driver = '{ODBC Driver 18 for SQL Server}' \n",
    "\n",
    "connection = pyodbc.connect(\n",
    "    f'DRIVER={driver};SERVER={sql_server_name};DATABASE={sql_database_name};UID={sql_username};PWD={sql_password}'\n",
    ")\n",
    "\n",
    "cursor = connection.cursor()\n",
    "query = f\"SELECT MAX(WHENMODIFIED) FROM Intacct_GLAccount\"\n",
    "# query = \"EXECUTE Testing ?\"\n",
    "# cursor.execute(query, (4,))\n",
    "# cursor.commit()\n",
    "cursor.execute(query)\n",
    "results = cursor.fetchall()\n",
    "for row in results:\n",
    "    print(row[0])\n",
    "    testing = row[0]\n",
    "# print(testing.day)\n",
    "cursor.close()\n",
    "connection.close()\n",
    "# testing = dt.datetime.strptime('2024-12-04 00:44:30', '%Y-%m-%d %H:%M:%S')\n",
    "print(testing.year)\n",
    "\n",
    "\n"
   ]
  }
 ],
 "metadata": {
  "kernelspec": {
   "display_name": "Python 3",
   "language": "python",
   "name": "python3"
  },
  "language_info": {
   "codemirror_mode": {
    "name": "ipython",
    "version": 3
   },
   "file_extension": ".py",
   "mimetype": "text/x-python",
   "name": "python",
   "nbconvert_exporter": "python",
   "pygments_lexer": "ipython3",
   "version": "3.12.6"
  }
 },
 "nbformat": 4,
 "nbformat_minor": 2
}
