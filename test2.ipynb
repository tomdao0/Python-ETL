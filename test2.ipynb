{
 "cells": [
  {
   "cell_type": "code",
   "execution_count": 6,
   "metadata": {},
   "outputs": [],
   "source": [
    "from lib.transformdata import DateFormatDetector\n",
    "import numpy as np\n",
    "import pandas as pd\n",
    "import openpyxl"
   ]
  },
  {
   "cell_type": "code",
   "execution_count": 7,
   "metadata": {},
   "outputs": [
    {
     "name": "stdout",
     "output_type": "stream",
     "text": [
      "Amount Columns: []\n",
      "Date Columns: ['createddate', 'activedatec', 'inactivedatec']\n",
      "OK\n"
     ]
    }
   ],
   "source": [
    "file_location = r'C:\\Users\\tomda\\OneDrive\\Desktop\\Python Supper App\\Python-ETL\\DataSF.xlsx'\n",
    "sheet_name = 'Account'\n",
    "detector = DateFormatDetector(file_location, sheet_name)\n",
    "df_data = detector.result()\n",
    "Amt_col = detector.Amt_col\n",
    "Date_col = detector.Date_col\n",
    "\n",
    "for i in df_data.columns:\n",
    "    if i not in Amt_col and i not in Date_col:\n",
    "        df_data[i].astype(str)\n",
    "    elif i in Amt_col:\n",
    "        df_data[i].astype(float)\n",
    "    elif i in Date_col:\n",
    "        df_data[i] = pd.to_datetime(df_data[i], format='%d/%m/%Y')\n",
    "import urllib.parse\n",
    "import sqlalchemy\n",
    "from sqlalchemy import create_engine\n",
    "\n",
    "# Create connection string\n",
    "connect_string = urllib.parse.quote_plus(\n",
    "    'DRIVER={ODBC Driver 17 for SQL Server};'\n",
    "    'Server=TOM;'\n",
    "    'Database=SampleSF;'\n",
    "    'Trusted_Connection=yes;'\n",
    ")\n",
    "\n",
    "# Create engine sqlalchemy\n",
    "engine = create_engine(f'mssql+pyodbc:///?odbc_connect={connect_string}', fast_executemany=True)\n",
    "#Connect and insert data\n",
    "with engine.connect() as connection:\n",
    "    df_data.to_sql(sheet_name, connection, index=False, if_exists='append')\n",
    "    print('OK')"
   ]
  }
 ],
 "metadata": {
  "kernelspec": {
   "display_name": "venv",
   "language": "python",
   "name": "python3"
  },
  "language_info": {
   "codemirror_mode": {
    "name": "ipython",
    "version": 3
   },
   "file_extension": ".py",
   "mimetype": "text/x-python",
   "name": "python",
   "nbconvert_exporter": "python",
   "pygments_lexer": "ipython3",
   "version": "3.10.9"
  }
 },
 "nbformat": 4,
 "nbformat_minor": 2
}
