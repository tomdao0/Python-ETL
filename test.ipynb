{
 "cells": [
  {
   "cell_type": "code",
   "execution_count": 65,
   "metadata": {},
   "outputs": [
    {
     "name": "stdout",
     "output_type": "stream",
     "text": [
      "MM/DD/YYYY\n"
     ]
    }
   ],
   "source": [
    "import pandas as pd\n",
    "import re\n",
    "import numpy as np\n",
    "possible_formats = []\n",
    "def find_possible_date_formats(date_str):\n",
    "    # List month name\n",
    "    months = r'(Jan|Feb|Mar|Apr|May|Jun|Jul|Aug|Sep|Oct|Nov|Dec|January|February|March|April|May|June|July|August|September|October|November|December)'\n",
    "\n",
    "    # Pattern to determine date format in string\n",
    "    patterns = {\n",
    "        'YYYY-MM-DD': r'^([2-9][0-9]{3})-(1[0-2]|0?[1-9])-(3[01]|[12][0-9]|0?[1-9])$',\n",
    "        'DD-MM-YYYY': r'^(3[01]|[12][0-9]|0?[1-9])-(1[0-2]|0?[1-9])-([2-9][0-9]{3})$',\n",
    "        'MM-DD-YYYY': r'^(1[0-2]|0?[1-9])-(3[01]|[12][0-9]|0?[1-9])-([2-9][0-9]{3})$',\n",
    "        'YYYY/MM/DD': r'^([2-9][0-9]{3})/(1[0-2]|0?[1-9])/(3[01]|[12][0-9]|0?[1-9])$',\n",
    "        'DD/MM/YYYY': r'^(3[01]|[12][0-9]|0?[1-9])/(1[0-2]|0?[1-9])/([2-9][0-9]{3})$',\n",
    "        'MM/DD/YYYY': r'^(1[0-2]|0?[1-9])/(3[01]|[12][0-9]|0?[1-9])/([2-9][0-9]{3})$',\n",
    "        'YYYY.MM.DD': r'^([2-9][0-9]{3})\\.(1[0-2]|0?[1-9])\\.(3[01]|[12][0-9]|0?[1-9])$',\n",
    "        'DD.MM.YYYY': r'^(3[01]|[12][0-9]|0?[1-9])\\.(1[0-2]|0?[1-9])\\.([2-9][0-9]{3})$',\n",
    "        'MM.DD.YYYY': r'^(1[0-2]|0?[1-9])\\.(3[01]|[12][0-9]|0?[1-9])\\.([2-9][0-9]{3})$',\n",
    "        'DD Month YYYY': rf'^(3[01]|[12][0-9]|0?[1-9]) {months} ([2-9][0-9]{{3}})$'\n",
    "    }\n",
    "    for format_name, pattern in patterns.items():\n",
    "        if re.match(pattern, date_str):\n",
    "            possible_formats.append(format_name)\n",
    "    \n",
    "    return possible_formats\n",
    "\n",
    "\n",
    "df_data = pd.read_excel(r'C:\\Users\\tomda\\OneDrive\\Desktop\\Python Supper App\\Python-ETL\\TestDate.xlsx')\n",
    "df_data.head()\n",
    "Top100Date = df_data.groupby('Order Date').head(100).reset_index(drop=True)['Order Date']\n",
    "for i in Top100Date:\n",
    "    find_possible_date_formats(i)\n",
    "correct_date_format = max(possible_formats,key=possible_formats.count)\n",
    "print(correct_date_format)"
   ]
  },
  {
   "cell_type": "code",
   "execution_count": 3,
   "metadata": {},
   "outputs": [
    {
     "ename": "NameError",
     "evalue": "name 'l' is not defined",
     "output_type": "error",
     "traceback": [
      "\u001b[1;31m---------------------------------------------------------------------------\u001b[0m",
      "\u001b[1;31mNameError\u001b[0m                                 Traceback (most recent call last)",
      "Cell \u001b[1;32mIn[3], line 11\u001b[0m\n\u001b[0;32m      9\u001b[0m j \u001b[38;5;241m=\u001b[39m \u001b[38;5;241m1\u001b[39m\n\u001b[0;32m     10\u001b[0m \u001b[38;5;28;01mfor\u001b[39;00m i \u001b[38;5;129;01min\u001b[39;00m df_data\u001b[38;5;241m.\u001b[39mcolumns:\n\u001b[1;32m---> 11\u001b[0m     \u001b[38;5;28;01mif\u001b[39;00m transform_column_name(i) \u001b[38;5;129;01mnot\u001b[39;00m \u001b[38;5;129;01min\u001b[39;00m \u001b[43ml\u001b[49m:\n\u001b[0;32m     12\u001b[0m         cols_sql\u001b[38;5;241m.\u001b[39mappend(transform_column_name(i))\n\u001b[0;32m     13\u001b[0m     \u001b[38;5;28;01melse\u001b[39;00m:\n",
      "\u001b[1;31mNameError\u001b[0m: name 'l' is not defined"
     ]
    }
   ],
   "source": [
    "\n",
    "def transform_column_name(col):\n",
    "    import re\n",
    "    cleaned_col = re.sub(r'\\s+', ' ',re.sub(r'[^a-zA-Z\\s]', '', col)).strip().lower()\n",
    "    cleaned_col = cleaned_col.replace(' ', '_')\n",
    "    return cleaned_col\n",
    "cols_sql = []\n",
    "default_amount = ['amount', 'sales', 'quantity', 'discount', 'profit']\n",
    "default_date = ['date']\n",
    "j = 1\n",
    "for i in df_data.columns:\n",
    "    if transform_column_name(i) not in l:\n",
    "        cols_sql.append(transform_column_name(i))\n",
    "    else:\n",
    "        cols_sql.append(transform_column_name(i) + '_' + str(j))\n",
    "        j =+ 1\n",
    "Amt_col = []\n",
    "Date_col = []\n",
    "for i in df_data.columns:\n",
    "    for j in default_amount:\n",
    "        if j in transform_column_name(i):\n",
    "            Amt_col.append(i)\n",
    "    for j in default_date:\n",
    "        if j in transform_column_name(i):\n",
    "            Date_col.append(i)\n",
    "df_data['Order Date'] = df_data['Order Date'].astype(str)\n",
    "try:\n",
    "\n",
    "    df_data[['DayTrans', 'MonthTrans', 'YearTrans']] = df_data['Order Date'].str.split('/', expand=True)\n",
    "except:\n",
    "    df_data[['DayTrans', 'MonthTrans', 'YearTrans']] = df_data['Order Date'].str.split('-', expand=True)\n",
    "if df_data['DayTrans'].astype(int).max() <= 12:\n",
    "    print('mm/dd/yyyy') #month => mm-dd-yyyy\n",
    "elif df_data['MonthTrans'].astype(int).max() <= 12 and df_data['YearTrans'].astype(int).max() >= 2000:\n",
    "    print('dd/mm/yyyy') #month => dd/mm/yyyy \n",
    "elif df_data['MonthTrans'].astype(int).max() <= 12 and df_data['DayTrans'].astype(int).max() >= 2000:\n",
    "    print('yyyy/mm/dd') #month => yyyy-mm-dd\n"
   ]
  },
  {
   "cell_type": "code",
   "execution_count": 66,
   "metadata": {},
   "outputs": [],
   "source": [
    "class TransformData:\n",
    "    import pandas as pd\n",
    "    import numpy as np\n",
    "    import re\n",
    "    import openpyxl\n",
    "    # List month name\n",
    "    months = r'(Jan|Feb|Mar|Apr|May|Jun|Jul|Aug|Sep|Oct|Nov|Dec|January|February|March|April|May|June|July|August|September|October|November|December)'\n",
    "    possible_formats = []\n",
    "\n",
    "    def __init__(self, fileLocation):\n",
    "        self.fileLocation = fileLocation  \n",
    "    def find_possible_date_formats(date_str):\n",
    "\n",
    "    # Pattern to determine date format in string\n",
    "        patterns = {\n",
    "            'YYYY-MM-DD': r'^([2-9][0-9]{3})-(1[0-2]|0?[1-9])-(3[01]|[12][0-9]|0?[1-9])$',\n",
    "            'DD-MM-YYYY': r'^(3[01]|[12][0-9]|0?[1-9])-(1[0-2]|0?[1-9])-([2-9][0-9]{3})$',\n",
    "            'MM-DD-YYYY': r'^(1[0-2]|0?[1-9])-(3[01]|[12][0-9]|0?[1-9])-([2-9][0-9]{3})$',\n",
    "            'YYYY/MM/DD': r'^([2-9][0-9]{3})/(1[0-2]|0?[1-9])/(3[01]|[12][0-9]|0?[1-9])$',\n",
    "            'DD/MM/YYYY': r'^(3[01]|[12][0-9]|0?[1-9])/(1[0-2]|0?[1-9])/([2-9][0-9]{3})$',\n",
    "            'MM/DD/YYYY': r'^(1[0-2]|0?[1-9])/(3[01]|[12][0-9]|0?[1-9])/([2-9][0-9]{3})$',\n",
    "            'YYYY.MM.DD': r'^([2-9][0-9]{3})\\.(1[0-2]|0?[1-9])\\.(3[01]|[12][0-9]|0?[1-9])$',\n",
    "            'DD.MM.YYYY': r'^(3[01]|[12][0-9]|0?[1-9])\\.(1[0-2]|0?[1-9])\\.([2-9][0-9]{3})$',\n",
    "            'MM.DD.YYYY': r'^(1[0-2]|0?[1-9])\\.(3[01]|[12][0-9]|0?[1-9])\\.([2-9][0-9]{3})$',\n",
    "            'DD Month YYYY': rf'^(3[01]|[12][0-9]|0?[1-9]) {months} ([2-9][0-9]{{3}})$'\n",
    "        }\n",
    "        for format_name, pattern in patterns.items():\n",
    "            if re.match(pattern, date_str):\n",
    "                possible_formats.append(format_name)\n",
    "        return possible_formats\n"
   ]
  },
  {
   "cell_type": "markdown",
   "metadata": {},
   "source": [
    "b = TransformData()"
   ]
  }
 ],
 "metadata": {
  "kernelspec": {
   "display_name": "venv",
   "language": "python",
   "name": "python3"
  },
  "language_info": {
   "codemirror_mode": {
    "name": "ipython",
    "version": 3
   },
   "file_extension": ".py",
   "mimetype": "text/x-python",
   "name": "python",
   "nbconvert_exporter": "python",
   "pygments_lexer": "ipython3",
   "version": "3.10.9"
  }
 },
 "nbformat": 4,
 "nbformat_minor": 2
}
