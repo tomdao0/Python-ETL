{
 "cells": [
  {
   "cell_type": "code",
   "execution_count": 44,
   "metadata": {},
   "outputs": [
    {
     "name": "stdout",
     "output_type": "stream",
     "text": [
      "Amount Columns: []\n",
      "Date Columns: []\n",
      "Amount Columns: []\n",
      "Date Columns: ['CreatedDate', 'Closed Date']\n",
      "Amount Columns: []\n",
      "Date Columns: []\n",
      "Amount Columns: []\n",
      "Date Columns: []\n",
      "Amount Columns: ['Amount']\n",
      "Date Columns: ['CloseDate']\n"
     ]
    }
   ],
   "source": [
    "from lib.transformdata import CreateTableInSQLServer\n",
    "from lib.transformdata import MaskData\n",
    "from lib.transformdata import TransformData\n",
    "from lib.transformdata import Generate_Random_Column_Base_Array\n",
    "import numpy as np\n",
    "import random\n",
    "import pandas as pd\n",
    "import re\n",
    "file_location = r'C:\\Users\\tomda\\OneDrive\\Desktop\\Python Supper App\\RDG Data 2.xlsx'\n",
    "def keep_first_number(s):\n",
    "    match = re.match(r'^\\s*(\\d+\\s+\\d+)', s)\n",
    "    return match.group(1) + \" Campaign \" if match else \"Campaign \"\n",
    "df_Account = TransformData(file_location, 'Account').result() #Preparedata to import\n",
    "df_Task= TransformData(file_location, 'Task').result() #Preparedata to import\n",
    "df_User = TransformData(file_location, 'User').result() #Preparedata to import\n",
    "df_OppProduct = TransformData(file_location, 'OppProduct').result() #Preparedata to import\n",
    "df_Opportunity= TransformData(file_location, 'Opportunity').result() #Preparedata to import\n",
    "# Create Product\n",
    "data_values = [\n",
    "    \"Financial Assessment\", \"Financial Modeling\", \"Outsourced Accounting\", \"M&A\", \n",
    "    \"Succession Implementation Services\", \"Benefits\", \"HR Outsourcing\", \"ACA\", \n",
    "    \"Accounting Firm\", \"Capital Structure\", \"Valutation\", \"HR Assessment\", \n",
    "    \"Consulting (Quarterly Reviews, Succession Planning, Estate Planning)\", \n",
    "    \"Assurance\", \"WOTC\", \"Tax\", \"ADP/HR Compliance Assessment\", \"ADP Servicing\", \n",
    "    \"Handbook\", \"Payroll\", \"Consulting\", \"Outsourced Payroll\", \"Tax Planning\", \n",
    "    \"Succession Planning\", \"Estate Planning\", \"HR advisory\", \"Tax Prep\"\n",
    "]\n",
    "\n",
    "unique_data_values = list(set(data_values))\n",
    "\n",
    "df_Product = pd.DataFrame({\n",
    "    'Id': range(1, len(unique_data_values) + 1),\n",
    "    'Product': unique_data_values\n",
    "})"
   ]
  },
  {
   "cell_type": "code",
   "execution_count": 45,
   "metadata": {},
   "outputs": [
    {
     "name": "stderr",
     "output_type": "stream",
     "text": [
      "c:\\Users\\tomda\\OneDrive\\Desktop\\Python Supper App\\Python-ETL\\lib\\transformdata.py:253: SettingWithCopyWarning: \n",
      "A value is trying to be set on a copy of a slice from a DataFrame.\n",
      "Try using .loc[row_indexer,col_indexer] = value instead\n",
      "\n",
      "See the caveats in the documentation: https://pandas.pydata.org/pandas-docs/stable/user_guide/indexing.html#returning-a-view-versus-a-copy\n",
      "  self.df_data[self.colname] = np.random.choice(\n",
      "C:\\Users\\tomda\\AppData\\Local\\Temp\\ipykernel_27208\\554938103.py:24: SettingWithCopyWarning: \n",
      "A value is trying to be set on a copy of a slice from a DataFrame.\n",
      "Try using .loc[row_indexer,col_indexer] = value instead\n",
      "\n",
      "See the caveats in the documentation: https://pandas.pydata.org/pandas-docs/stable/user_guide/indexing.html#returning-a-view-versus-a-copy\n",
      "  df_Opportunity['Partner'] = np.random.randint(1, len(df_User) + 1, size=len(df_Opportunity))\n",
      "c:\\Users\\tomda\\OneDrive\\Desktop\\Python Supper App\\Python-ETL\\lib\\transformdata.py:253: SettingWithCopyWarning: \n",
      "A value is trying to be set on a copy of a slice from a DataFrame.\n",
      "Try using .loc[row_indexer,col_indexer] = value instead\n",
      "\n",
      "See the caveats in the documentation: https://pandas.pydata.org/pandas-docs/stable/user_guide/indexing.html#returning-a-view-versus-a-copy\n",
      "  self.df_data[self.colname] = np.random.choice(\n"
     ]
    }
   ],
   "source": [
    "# Account\n",
    "df_Account = Generate_Random_Column_Base_Array(df_Account, 'Type', ['Propsect', 'Exisiting Client']).generate_random_data() # Mask Type\n",
    "df_Account = MaskData(df_Account, ['Name'], 'Full Name', r'lib\\Maskdata\\names.csv').mask_data() #Mask Account Name\n",
    "df_Account[\"Account_Id_masked\"] = range(1,len(df_Account) + 1) #Mask AccountId\n",
    "df_Account['Email'] = \"fake\" + df_Account[\"Account_Id_masked\"].astype(str) + '@gmail'\n",
    "df_Account.head()\n",
    "# Task\n",
    "df_Task[\"Task_Id_masked\"] = range(1,len(df_Task) + 1) #Mask Task Id\n",
    "    # replace AccountId by Account_Id_masked\n",
    "merged_df = pd.merge(df_Task, df_Account[['Id', 'Account_Id_masked']], left_on='AccountId', right_on='Id', how='left',suffixes=('', '_y'))\n",
    "merged_df['AccountId'] = merged_df['Account_Id_masked']\n",
    "df_Task = merged_df[df_Task.columns]\n",
    "df_Task = Generate_Random_Column_Base_Array(df_Task, 'Subject', ['IN-PERSON', 'ZOOM', 'EMAIL']).generate_random_data() # Mask Subject\n",
    "df_Task = Generate_Random_Column_Base_Array(df_Task, 'Type', ['Proposal']).generate_random_data() # Mask Type\n",
    "# User\n",
    "df_User = MaskData(df_User, ['Name'], 'Full Name', r'lib\\Maskdata\\names.csv').mask_data() #Mask User Name\n",
    "df_User[\"User_Id_masked\"] = range(1,len(df_User) + 1) #Mask UserId\n",
    "# Opportunity\n",
    "df_Opportunity[\"Opportunity_Id_masked\"] = range(1,len(df_Opportunity) + 1) #Mask Opportunity Id\n",
    "    # replace AccountId by Account_Id_masked\n",
    "merged_df = pd.merge(df_Opportunity, df_Account[['Id', 'Account_Id_masked']], left_on='AccountId', right_on='Id', how='left',suffixes=('', '_y'))\n",
    "merged_df['AccountId'] = merged_df['Account_Id_masked']\n",
    "df_Opportunity = merged_df[df_Opportunity.columns]\n",
    "df_Opportunity['Partner'] = np.random.randint(1, len(df_User) + 1, size=len(df_Opportunity))\n",
    "df_Opportunity['CM'] = np.random.randint(1, len(df_User) + 1, size=len(df_Opportunity))\n",
    "# OppProduct\n",
    "df_OppProduct[\"OppProduct_Id_masked\"] = range(1,len(df_OppProduct) + 1) #Mask Product Id\n",
    "    # replace OpportunityId by Opportunity_Id_masked\n",
    "merged_df = pd.merge(df_OppProduct, df_Opportunity[['Id', 'Opportunity_Id_masked']], left_on='OpportunityId', right_on='Id', how='left',suffixes=('', '_y'))\n",
    "merged_df['OpportunityId'] = merged_df['Opportunity_Id_masked']\n",
    "df_OppProduct = merged_df[df_OppProduct.columns]\n",
    "df_OppProduct = Generate_Random_Column_Base_Array(df_OppProduct, 'SERVICES_PRESENTED', ['Propsect', 'Exisiting Client']).generate_random_data() # Mask Type\n",
    "df_OppProduct['PRESENTED_ID'] = np.random.randint(1, len(df_Product) + 1, size=len(df_OppProduct))\n",
    "df_OppProduct = Generate_Random_Column_Base_Array(df_OppProduct, 'SERVICES QUOTED ON ', ['Yes', 'No', 'No', 'No', None,None]).generate_random_data() # Mask SERVICES QUOTED ON\n",
    "df_OppProduct = Generate_Random_Column_Base_Array(df_OppProduct, 'SERVICES WON ', ['Yes', None, None, None, None,None]).generate_random_data() # Mask SERVICES WON\n"
   ]
  },
  {
   "cell_type": "code",
   "execution_count": 46,
   "metadata": {},
   "outputs": [
    {
     "data": {
      "text/plain": [
       "0         562\n",
       "1         563\n",
       "2         537\n",
       "3         635\n",
       "4         704\n",
       "         ... \n",
       "35100    8869\n",
       "35101    7032\n",
       "35102    7867\n",
       "35103    1343\n",
       "35104    6656\n",
       "Name: AccountId, Length: 35105, dtype: Int64"
      ]
     },
     "execution_count": 46,
     "metadata": {},
     "output_type": "execute_result"
    }
   ],
   "source": [
    "df_Account['Id'] = df_Account['Account_Id_masked'].astype(int)\n",
    "df_Account.drop(columns=['Account_Id_masked'], inplace=True)\n",
    "df_User['Id'] = df_User['User_Id_masked'].astype(int)\n",
    "df_User.drop(columns=['User_Id_masked'], inplace=True)\n",
    "df_Opportunity['Id'] = df_Opportunity['Opportunity_Id_masked'].astype(int)\n",
    "df_Opportunity.drop(columns=['Opportunity_Id_masked'], inplace=True)\n",
    "df_Opportunity['AccountId'].astype('Int64')\n",
    "df_Opportunity['Partner'].astype('Int64')\n",
    "df_Opportunity['CM'].astype('Int64')\n",
    "df_OppProduct['Id'] = df_OppProduct['OppProduct_Id_masked'].astype(int)\n",
    "df_OppProduct.drop(columns=['OppProduct_Id_masked'], inplace=True)\n",
    "df_OppProduct['OpportunityId'].astype('Int64')\n",
    "df_OppProduct['PRESENTED_ID'].astype('Int64')\n",
    "df_Task['Id'] = df_Task['Task_Id_masked'].astype(int)\n",
    "df_Task.drop(columns=['Task_Id_masked'], inplace=True)\n",
    "df_Task['AccountId'].astype('Int64')\n"
   ]
  },
  {
   "cell_type": "code",
   "execution_count": 47,
   "metadata": {},
   "outputs": [
    {
     "name": "stdout",
     "output_type": "stream",
     "text": [
      "OK\n"
     ]
    }
   ],
   "source": [
    "# CreateTableInSQLServer('TOM', 'RDGCRM', 'Account', df_Account).run()\n",
    "# CreateTableInSQLServer('TOM', 'RDGCRM', 'CRM_User', df_User).run()\n",
    "CreateTableInSQLServer('TOM', 'RDGCRM', 'Opportunity', df_Opportunity).run()\n",
    "# CreateTableInSQLServer('TOM', 'RDGCRM', 'OppProduct', df_OppProduct).run()\n",
    "# CreateTableInSQLServer('TOM', 'RDGCRM', 'Task', df_Task).run()\n",
    "# CreateTableInSQLServer('TOM', 'RDGCRM', 'Product', df_Product).run()"
   ]
  }
 ],
 "metadata": {
  "kernelspec": {
   "display_name": "venv",
   "language": "python",
   "name": "python3"
  },
  "language_info": {
   "codemirror_mode": {
    "name": "ipython",
    "version": 3
   },
   "file_extension": ".py",
   "mimetype": "text/x-python",
   "name": "python",
   "nbconvert_exporter": "python",
   "pygments_lexer": "ipython3",
   "version": "3.10.9"
  }
 },
 "nbformat": 4,
 "nbformat_minor": 2
}
